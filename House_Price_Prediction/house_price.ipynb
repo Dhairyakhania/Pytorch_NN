{
 "cells": [
  {
   "cell_type": "code",
   "execution_count": 9,
   "metadata": {},
   "outputs": [],
   "source": [
    "from sklearn.datasets import fetch_california_housing\n",
    "\n",
    "data = fetch_california_housing()\n",
    "\n",
    "X , y = data.data, data.target"
   ]
  },
  {
   "cell_type": "code",
   "execution_count": 13,
   "metadata": {},
   "outputs": [],
   "source": [
    "import pandas as pd\n",
    "import numpy as np\n",
    "import matplotlib.pyplot as plt\n",
    "import seaborn as sns\n",
    "from sklearn.model_selection import train_test_split\n",
    "import torch"
   ]
  },
  {
   "cell_type": "code",
   "execution_count": null,
   "metadata": {},
   "outputs": [],
   "source": [
    "X_train, X_test, y_train, y_test = train_test_split(X, y, test_size=0.2, random_state=42)"
   ]
  },
  {
   "cell_type": "code",
   "execution_count": 18,
   "metadata": {},
   "outputs": [
    {
     "data": {
      "text/plain": [
       "torch.Size([16512, 8])"
      ]
     },
     "execution_count": 18,
     "metadata": {},
     "output_type": "execute_result"
    }
   ],
   "source": [
    "X_train.shape"
   ]
  },
  {
   "cell_type": "code",
   "execution_count": 15,
   "metadata": {},
   "outputs": [],
   "source": [
    "X_train = torch.tensor(X_train, dtype=torch.float32)\n",
    "y_train = torch.tensor(y_train, dtype=torch.float32)\n",
    "X_test = torch.tensor(X_test, dtype=torch.float32)\n",
    "y_test = torch.tensor(y_test, dtype=torch.float32)"
   ]
  },
  {
   "cell_type": "code",
   "execution_count": 16,
   "metadata": {},
   "outputs": [],
   "source": [
    "import torch.nn as nn\n",
    "import torch.nn.functional as F\n",
    "import torch.optim as optim"
   ]
  },
  {
   "cell_type": "code",
   "execution_count": 20,
   "metadata": {},
   "outputs": [],
   "source": [
    "model = nn.Sequential(\n",
    "    nn.Linear(8,24),\n",
    "    nn.ReLU(),\n",
    "    nn.Linear(24,12),\n",
    "    nn.ReLU(),\n",
    "    nn.Linear(12,6),\n",
    "    nn.ReLU(),\n",
    "    nn.Linear(6,1)\n",
    ")"
   ]
  },
  {
   "cell_type": "code",
   "execution_count": 21,
   "metadata": {},
   "outputs": [],
   "source": [
    "criterion = nn.MSELoss()\n",
    "optimizer = optim.Adam(model.parameters(), lr=0.01)"
   ]
  },
  {
   "cell_type": "code",
   "execution_count": 23,
   "metadata": {},
   "outputs": [
    {
     "name": "stdout",
     "output_type": "stream",
     "text": [
      "Collecting torchsummary\n",
      "  Downloading torchsummary-1.5.1-py3-none-any.whl.metadata (296 bytes)\n",
      "Downloading torchsummary-1.5.1-py3-none-any.whl (2.8 kB)\n",
      "Installing collected packages: torchsummary\n",
      "Successfully installed torchsummary-1.5.1\n"
     ]
    }
   ],
   "source": [
    "!pip install torchsummary"
   ]
  },
  {
   "cell_type": "code",
   "execution_count": 25,
   "metadata": {},
   "outputs": [
    {
     "name": "stdout",
     "output_type": "stream",
     "text": [
      "----------------------------------------------------------------\n",
      "        Layer (type)               Output Shape         Param #\n",
      "================================================================\n",
      "            Linear-1                   [-1, 24]             216\n",
      "              ReLU-2                   [-1, 24]               0\n",
      "            Linear-3                   [-1, 12]             300\n",
      "              ReLU-4                   [-1, 12]               0\n",
      "            Linear-5                    [-1, 6]              78\n",
      "              ReLU-6                    [-1, 6]               0\n",
      "            Linear-7                    [-1, 1]               7\n",
      "================================================================\n",
      "Total params: 601\n",
      "Trainable params: 601\n",
      "Non-trainable params: 0\n",
      "----------------------------------------------------------------\n",
      "Input size (MB): 0.00\n",
      "Forward/backward pass size (MB): 0.00\n",
      "Params size (MB): 0.00\n",
      "Estimated Total Size (MB): 0.00\n",
      "----------------------------------------------------------------\n"
     ]
    }
   ],
   "source": [
    "device = torch.device(\"cuda\" if torch.cuda.is_available() else \"cpu\")\n",
    "\n",
    "model.to(device)\n",
    "X_train = X_train.to(device)\n",
    "y_train = y_train.to(device)\n",
    "X_test = X_test.to(device)\n",
    "y_test = y_test.to(device)\n",
    "\n",
    "from torchsummary import summary\n",
    "\n",
    "summary(model, (8,))"
   ]
  },
  {
   "cell_type": "code",
   "execution_count": 28,
   "metadata": {},
   "outputs": [
    {
     "name": "stdout",
     "output_type": "stream",
     "text": [
      "Epoch [10/500], Loss 1.3409\n",
      "Epoch [20/500], Loss 1.3405\n",
      "Epoch [30/500], Loss 1.3402\n",
      "Epoch [40/500], Loss 1.3400\n",
      "Epoch [50/500], Loss 1.3398\n",
      "Epoch [60/500], Loss 1.3396\n",
      "Epoch [70/500], Loss 1.3394\n",
      "Epoch [80/500], Loss 1.3393\n",
      "Epoch [90/500], Loss 1.3392\n",
      "Epoch [100/500], Loss 1.3391\n",
      "Epoch [110/500], Loss 1.3390\n",
      "Epoch [120/500], Loss 1.3389\n",
      "Epoch [130/500], Loss 1.3389\n",
      "Epoch [140/500], Loss 1.3388\n",
      "Epoch [150/500], Loss 1.3388\n",
      "Epoch [160/500], Loss 1.3387\n",
      "Epoch [170/500], Loss 1.3387\n",
      "Epoch [180/500], Loss 1.3387\n",
      "Epoch [190/500], Loss 1.3387\n",
      "Epoch [200/500], Loss 1.3387\n",
      "Epoch [210/500], Loss 1.3387\n",
      "Epoch [220/500], Loss 1.3386\n",
      "Epoch [230/500], Loss 1.3386\n",
      "Epoch [240/500], Loss 1.3386\n",
      "Epoch [250/500], Loss 1.3386\n",
      "Epoch [260/500], Loss 1.3386\n",
      "Epoch [270/500], Loss 1.3386\n",
      "Epoch [280/500], Loss 1.3386\n",
      "Epoch [290/500], Loss 1.3386\n",
      "Epoch [300/500], Loss 1.3386\n",
      "Epoch [310/500], Loss 1.3385\n",
      "Epoch [320/500], Loss 1.3385\n",
      "Epoch [330/500], Loss 1.3385\n",
      "Epoch [340/500], Loss 1.3385\n",
      "Epoch [350/500], Loss 1.3385\n",
      "Epoch [360/500], Loss 1.3385\n",
      "Epoch [370/500], Loss 1.3385\n",
      "Epoch [380/500], Loss 1.3385\n",
      "Epoch [390/500], Loss 1.3385\n",
      "Epoch [400/500], Loss 1.3385\n",
      "Epoch [410/500], Loss 1.3384\n",
      "Epoch [420/500], Loss 1.3384\n",
      "Epoch [430/500], Loss 1.3384\n",
      "Epoch [440/500], Loss 1.3384\n",
      "Epoch [450/500], Loss 1.3384\n",
      "Epoch [460/500], Loss 1.3384\n",
      "Epoch [470/500], Loss 1.3384\n",
      "Epoch [480/500], Loss 1.3384\n",
      "Epoch [490/500], Loss 1.3384\n",
      "Epoch [500/500], Loss 1.3384\n"
     ]
    }
   ],
   "source": [
    "epochs = 500\n",
    "losses = []\n",
    "\n",
    "for epoch in range(epochs):\n",
    "    optimizer.zero_grad()\n",
    "    y_pred = model(X_train)\n",
    "    loss = criterion(y_pred, y_train)\n",
    "    loss.backward()\n",
    "    optimizer.step()\n",
    "\n",
    "    if (epoch+1) % 10 == 0:\n",
    "        print(f'Epoch [{epoch+1}/{epochs}], Loss {loss.item():.4f}')"
   ]
  },
  {
   "cell_type": "code",
   "execution_count": 34,
   "metadata": {},
   "outputs": [
    {
     "name": "stdout",
     "output_type": "stream",
     "text": [
      "Mean Squared Error: 1.3121870756149292\n"
     ]
    },
    {
     "name": "stderr",
     "output_type": "stream",
     "text": [
      "C:\\Users\\DHAIRYA\\AppData\\Local\\Temp\\ipykernel_24368\\151406636.py:5: UserWarning: Using a target size (torch.Size([4128])) that is different to the input size (torch.Size([4128, 1])). This will likely lead to incorrect results due to broadcasting. Please ensure they have the same size.\n",
      "  mse = F.mse_loss(y_pred, y_test)\n"
     ]
    }
   ],
   "source": [
    "model.eval()\n",
    "with torch.no_grad():\n",
    "    y_pred = model(X_test)\n",
    "    # y_test_tensor = torch.tensor(y_test.values,dtype=torch.float32).unsqueeze(1)\n",
    "    mse = F.mse_loss(y_pred, y_test)\n",
    "    print(f'Mean Squared Error: {mse.item()}')"
   ]
  },
  {
   "cell_type": "code",
   "execution_count": 42,
   "metadata": {},
   "outputs": [],
   "source": [
    "torch.save(model.state_dict(), 'model.pth')"
   ]
  },
  {
   "cell_type": "code",
   "execution_count": 40,
   "metadata": {},
   "outputs": [],
   "source": [
    "import pickle"
   ]
  },
  {
   "cell_type": "code",
   "execution_count": null,
   "metadata": {},
   "outputs": [],
   "source": [
    "# torch.save(model, 'model.h5')"
   ]
  },
  {
   "cell_type": "code",
   "execution_count": 46,
   "metadata": {},
   "outputs": [
    {
     "name": "stderr",
     "output_type": "stream",
     "text": [
      "C:\\Users\\DHAIRYA\\AppData\\Local\\Temp\\ipykernel_24368\\263177812.py:11: FutureWarning: You are using `torch.load` with `weights_only=False` (the current default value), which uses the default pickle module implicitly. It is possible to construct malicious pickle data which will execute arbitrary code during unpickling (See https://github.com/pytorch/pytorch/blob/main/SECURITY.md#untrusted-models for more details). In a future release, the default value for `weights_only` will be flipped to `True`. This limits the functions that could be executed during unpickling. Arbitrary objects will no longer be allowed to be loaded via this mode unless they are explicitly allowlisted by the user via `torch.serialization.add_safe_globals`. We recommend you start setting `weights_only=True` for any use case where you don't have full control of the loaded file. Please open an issue on GitHub for any issues related to this experimental feature.\n",
      "  load_model.load_state_dict(torch.load('model.pth'))\n"
     ]
    },
    {
     "data": {
      "text/plain": [
       "Sequential(\n",
       "  (0): Linear(in_features=8, out_features=24, bias=True)\n",
       "  (1): ReLU()\n",
       "  (2): Linear(in_features=24, out_features=12, bias=True)\n",
       "  (3): ReLU()\n",
       "  (4): Linear(in_features=12, out_features=6, bias=True)\n",
       "  (5): ReLU()\n",
       "  (6): Linear(in_features=6, out_features=1, bias=True)\n",
       ")"
      ]
     },
     "execution_count": 46,
     "metadata": {},
     "output_type": "execute_result"
    }
   ],
   "source": [
    "load_model = nn.Sequential(\n",
    "\tnn.Linear(8,24),\n",
    "\tnn.ReLU(),\n",
    "\tnn.Linear(24,12),\n",
    "\tnn.ReLU(),\n",
    "\tnn.Linear(12,6),\n",
    "\tnn.ReLU(),\n",
    "\tnn.Linear(6,1)\n",
    ")\n",
    "\n",
    "load_model.load_state_dict(torch.load('model.pth'))\n",
    "load_model.eval()"
   ]
  },
  {
   "cell_type": "code",
   "execution_count": 56,
   "metadata": {},
   "outputs": [
    {
     "name": "stdout",
     "output_type": "stream",
     "text": [
      "Predicted Price: 2.0670742988586426\n"
     ]
    }
   ],
   "source": [
    "sample = X_test[1].unsqueeze(0)\n",
    "\n",
    "load_model.to(device)\n",
    "sample = sample.to(device)\n",
    "\n",
    "with torch.no_grad():\n",
    "    y_pred = load_model(sample)\n",
    "    print(f'Predicted Price: {y_pred.item()}')"
   ]
  },
  {
   "cell_type": "code",
   "execution_count": null,
   "metadata": {},
   "outputs": [],
   "source": []
  }
 ],
 "metadata": {
  "kernelspec": {
   "display_name": "llm",
   "language": "python",
   "name": "python3"
  },
  "language_info": {
   "codemirror_mode": {
    "name": "ipython",
    "version": 3
   },
   "file_extension": ".py",
   "mimetype": "text/x-python",
   "name": "python",
   "nbconvert_exporter": "python",
   "pygments_lexer": "ipython3",
   "version": "3.11.11"
  }
 },
 "nbformat": 4,
 "nbformat_minor": 2
}
